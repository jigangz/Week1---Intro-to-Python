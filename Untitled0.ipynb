{
  "nbformat": 4,
  "nbformat_minor": 0,
  "metadata": {
    "colab": {
      "provenance": [],
      "authorship_tag": "ABX9TyNMcUC07HnB0PeCZH1tMipC",
      "include_colab_link": true
    },
    "kernelspec": {
      "name": "python3",
      "display_name": "Python 3"
    },
    "language_info": {
      "name": "python"
    }
  },
  "cells": [
    {
      "cell_type": "markdown",
      "metadata": {
        "id": "view-in-github",
        "colab_type": "text"
      },
      "source": [
        "<a href=\"https://colab.research.google.com/github/jigangz/Week1---Intro-to-Python/blob/new/Untitled0.ipynb\" target=\"_parent\"><img src=\"https://colab.research.google.com/assets/colab-badge.svg\" alt=\"Open In Colab\"/></a>"
      ]
    },
    {
      "cell_type": "code",
      "source": [
        "# Adding two numbers\n",
        "a = 5\n",
        "b = 3\n",
        "result = a + b\n",
        "print(result)  # Output: 8\n"
      ],
      "metadata": {
        "id": "gVY77TiytaA6"
      },
      "execution_count": null,
      "outputs": []
    },
    {
      "cell_type": "code",
      "source": [
        "# Using f-string to format a string\n",
        "name = \"John\"\n",
        "age = 25\n",
        "greeting = f\"Hello, my name is {name} and I am {age} years old.\"\n",
        "print(greeting)\n"
      ],
      "metadata": {
        "id": "rBEcABi0tbmc"
      },
      "execution_count": null,
      "outputs": []
    },
    {
      "cell_type": "code",
      "source": [
        "# Checking if a number is even or odd\n",
        "num = 4\n",
        "if num % 2 == 0:\n",
        "    print(f\"{num} is even\")\n",
        "else:\n",
        "    print(f\"{num} is odd\")\n"
      ],
      "metadata": {
        "id": "n7uPj4WF_Dmh"
      },
      "execution_count": null,
      "outputs": []
    },
    {
      "cell_type": "code",
      "source": [
        "# Using a for loop to iterate over a range of numbers\n",
        "for i in range(5):\n",
        "    print(f\"Iteration {i}\")\n"
      ],
      "metadata": {
        "id": "9PHJBW0q_DvR"
      },
      "execution_count": null,
      "outputs": []
    },
    {
      "cell_type": "code",
      "source": [
        "# While loop to sum numbers from 1 to 5\n",
        "total = 0\n",
        "i = 1\n",
        "while i <= 5:\n",
        "    total += i\n",
        "    i += 1\n",
        "print(f\"Sum of numbers from 1 to 5: {total}\")\n"
      ],
      "metadata": {
        "id": "aUutgeQc_D6b"
      },
      "execution_count": null,
      "outputs": []
    },
    {
      "cell_type": "code",
      "source": [
        "# Creating a list of squares using list comprehension\n",
        "squares = [x**2 for x in range(1, 6)]\n",
        "print(squares)  # Output: [1, 4, 9, 16, 25]\n"
      ],
      "metadata": {
        "id": "Fc-RuAA8_D9H"
      },
      "execution_count": null,
      "outputs": []
    },
    {
      "cell_type": "code",
      "source": [
        "# Defining a function to calculate the area of a rectangle\n",
        "def area_of_rectangle(length, width):\n",
        "    return length * width\n",
        "\n",
        "# Calling the function\n",
        "print(area_of_rectangle(5, 3))\n"
      ],
      "metadata": {
        "id": "DzLqdT0Y_D_d"
      },
      "execution_count": null,
      "outputs": []
    },
    {
      "cell_type": "code",
      "source": [
        "# Creating a simple class for a Dog\n",
        "class Dog:\n",
        "    def __init__(self, name, age):\n",
        "        self.name = name\n",
        "        self.age = age\n",
        "\n",
        "    def bark(self):\n",
        "        print(f\"{self.name} is barking!\")\n",
        "\n",
        "# Creating an object of the Dog class\n",
        "my_dog = Dog(\"Buddy\", 2)\n",
        "my_dog.bark()\n"
      ],
      "metadata": {
        "id": "vjf-Qenx_EBx"
      },
      "execution_count": null,
      "outputs": []
    },
    {
      "cell_type": "code",
      "source": [
        "# Iterating over a dictionary's keys and values\n",
        "person = {\"name\": \"Alice\", \"age\": 30, \"city\": \"New York\"}\n",
        "for key, value in person.items():\n",
        "    print(f\"{key}: {value}\")\n"
      ],
      "metadata": {
        "id": "hrCSt-C7_ED1"
      },
      "execution_count": null,
      "outputs": []
    },
    {
      "cell_type": "code",
      "source": [
        "# Using list methods to append and remove items\n",
        "fruits = [\"apple\", \"banana\", \"cherry\"]\n",
        "fruits.append(\"orange\")\n",
        "fruits.remove(\"banana\")\n",
        "print(fruits)  # Output: ['apple', 'cherry', 'orange']\n",
        "\n"
      ],
      "metadata": {
        "id": "GqG-poYK_SeD"
      },
      "execution_count": null,
      "outputs": []
    },
    {
      "cell_type": "code",
      "source": [
        "# Demonstrating set union and intersection\n",
        "set1 = {1, 2, 3, 4}\n",
        "set2 = {3, 4, 5, 6}\n",
        "union_set = set1 | set2\n",
        "intersection_set = set1 & set2\n",
        "print(\"Union:\", union_set)  # Output: Union: {1, 2, 3, 4, 5, 6}\n",
        "print(\"Intersection:\", intersection_set)  # Output: Intersection: {3, 4}\n"
      ],
      "metadata": {
        "id": "nxPAnC47_kM0"
      },
      "execution_count": null,
      "outputs": []
    },
    {
      "cell_type": "code",
      "source": [
        "# Unpacking a tuple into variables\n",
        "coordinates = (4, 5)\n",
        "x, y = coordinates\n",
        "print(f\"x: {x}, y: {y}\")\n"
      ],
      "metadata": {
        "id": "AA-ZFUOT_kXF"
      },
      "execution_count": null,
      "outputs": []
    },
    {
      "cell_type": "code",
      "source": [
        "# Using a lambda function to calculate square\n",
        "square = lambda x: x**2\n",
        "print(square(4))  # Output: 16\n"
      ],
      "metadata": {
        "id": "RseDs8IM_ke5"
      },
      "execution_count": null,
      "outputs": []
    },
    {
      "cell_type": "code",
      "source": [
        "# Handling division by zero error\n",
        "try:\n",
        "    result = 10 / 0\n",
        "except ZeroDivisionError:\n",
        "    print(\"Error: Division by zero!\")\n"
      ],
      "metadata": {
        "id": "b6s3WzS8_mE2"
      },
      "execution_count": null,
      "outputs": []
    },
    {
      "cell_type": "code",
      "source": [
        "# Writing to a file\n",
        "with open('example.txt', 'w') as file:\n",
        "    file.write(\"Hello, this is a test file.\")\n"
      ],
      "metadata": {
        "id": "Vqx9gkDB_mKI"
      },
      "execution_count": null,
      "outputs": []
    },
    {
      "cell_type": "code",
      "source": [
        "# Reading from a file\n",
        "with open('example.txt', 'r') as file:\n",
        "    content = file.read()\n",
        "    print(content)\n"
      ],
      "metadata": {
        "id": "NXnVAuAq_mQv"
      },
      "execution_count": null,
      "outputs": []
    },
    {
      "cell_type": "code",
      "source": [
        "# Using map function to double the values in a list\n",
        "numbers = [1, 2, 3, 4]\n",
        "doubled = list(map(lambda x: x * 2, numbers))\n",
        "print(doubled)  # Output: [2, 4, 6, 8]\n"
      ],
      "metadata": {
        "id": "_k4JFVBt_mXE"
      },
      "execution_count": null,
      "outputs": []
    },
    {
      "cell_type": "code",
      "source": [
        "# Importing the math module and using sqrt function\n",
        "import math\n",
        "print(math.sqrt(16))  # Output: 4.0\n"
      ],
      "metadata": {
        "id": "1e2hT3pz_mcW"
      },
      "execution_count": null,
      "outputs": []
    },
    {
      "cell_type": "code",
      "source": [
        "# Slicing a list to get the first three elements\n",
        "my_list = [10, 20, 30, 40, 50]\n",
        "sliced_list = my_list[:3]\n",
        "print(sliced_list)  # Output: [10, 20, 30]\n"
      ],
      "metadata": {
        "id": "3Z_uD2BD_miC"
      },
      "execution_count": null,
      "outputs": []
    },
    {
      "cell_type": "code",
      "source": [
        "# Using enumerate to get the index and value in a loop\n",
        "animals = ['cat', 'dog', 'bird']\n",
        "for index, animal in enumerate(animals):\n",
        "    print(f\"Index: {index}, Animal: {animal}\")\n"
      ],
      "metadata": {
        "id": "I_cMmqUb_mnn"
      },
      "execution_count": null,
      "outputs": []
    }
  ]
}